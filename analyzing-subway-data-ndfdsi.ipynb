{
 "cells": [
  {
   "cell_type": "markdown",
   "metadata": {},
   "source": [
    "# Subway Data Analysis\n",
    "\n",
    "## Introduction\n",
    "\n",
    "O sistema de ônibus e trens de Nova Iorque - o Metro Transit Authority - fornece seus dados para download através de  arquivos csv. Uma das informações disponíveis são os dados das catracas do metrô que contém logs semanais de entradas cumulativas e saídas por catraca por estação de metrô em algum intervalo de tempo.\n",
    "\n",
    "\n",
    "Neste projeto iremos utilizar apenas os das catraca disponíveis em: http://web.mta.info/developers/turnstile.html.\n",
    "\n",
    "\n"
   ]
  },
  {
   "cell_type": "markdown",
   "metadata": {},
   "source": [
    "# Sobre este projeto\n",
    "\n",
    "Neste projeto você irá aplicar todos os conhecimentos adquiridos neste primeiro mês de curso. Iremos praticar tarefas básicas de aquisição, limpeza de dados e nesse processo iremos descobrir coisas essenciais sobre os dados utilizando o que foi aprendido no curso de estatística. \n",
    "\n",
    "O objetivo deste projeto é explorar a relação entre os dados das catracas do metro de Nova Iorque e o clima no dia da coleta. Para isso, além dos dados do metrô, precisaremos os dados de clima da cidade de Nova Iorque. \n",
    "\n",
    "Os principais pontos que serão verificados neste trabalho:\n",
    "\n",
    "- Coleta de dados da internet\n",
    "- Utilização de estatística para análise de dados\n",
    "- Manipulação de dados e criação de gráficos simples com o `Pandas`\n",
    "\n",
    "*Como conseguir ajuda*: Sugerimos que tente os seguintes canais, nas seguintes ordens:\n",
    "\n",
    "| Tipo de dúvida\\Canais         \t| Google \t| Fórum \t| Slack \t| Email \t|\n",
    "|-------------------------------\t|--------\t|-------\t|-------\t|-------\t|\n",
    "| Programação Pyhon e Pandas    \t| 1      \t| 2     \t| 3     \t|       \t|\n",
    "| Requisitos do projeto         \t|        \t| 1     \t| 2     \t| 3     \t|\n",
    "| Partes específicas do Projeto \t|        \t| 1     \t| 2     \t| 3     \t|\n",
    "\n",
    "Os endereços dos canais são:\n",
    "\n",
    "- Fórum: https://discussions.udacity.com/c/ndfdsi-project\n",
    "- Slack: [udacity-br.slack.com](https://udacity-br.slack.com/messages/C5MT6E3E1)\n",
    "- Email: data-suporte@udacity.com\n",
    "\n",
    "**Espera-se que o estudante entregue este relatório com:**\n",
    "\n",
    "- Todos os TODO feitos, pois eles são essenciais para que o código rode corretamente\n",
    "- O arquivo ipynb exportado como html\n",
    "\n",
    "Para entregar este projeto, vá a [sala de aula](https://coco.udacity.com/nanodegrees/nd111/locale/pt-br/versions/1.0.0/parts/339726/modules/339733/lessons/340886/project) e submeta o seu `.ipynb` e o html, zipados."
   ]
  },
  {
   "cell_type": "markdown",
   "metadata": {},
   "source": [
    "# Lembretes\n",
    "\n",
    "Antes de começarmos, alguns lembretes devem ter em mente ao usar os notebooks iPython:\n",
    "\n",
    "- Lembre-se de que você pode ver do lado esquerdo de uma célula de código quando foi executado pela última vez se houver um número dentro das chaves.\n",
    "- Quando você inicia uma nova sessão do notebook, certifique-se de executar todas as células até o ponto em que você deixou a última vez. Mesmo que a saída ainda seja visível a partir de quando você executou as células em sua sessão anterior, o kernel começa em um estado novo, então você precisará recarregar os dados, etc. em uma nova sessão.\n",
    "- O ponto anterior é útil para ter em mente se suas respostas não correspondem ao que é esperado nos questionários da aula. Tente recarregar os dados e execute todas as etapas de processamento um a um para garantir que você esteja trabalhando com as mesmas variáveis e dados que estão em cada fase do questionário."
   ]
  },
  {
   "cell_type": "markdown",
   "metadata": {},
   "source": [
    "## Seção 1 - Coleta de Dados\n",
    "\n",
    "### *Exercicio 1.1*\n",
    "\n",
    "Mãos a obra!! Agora é sua vez de coletar os dados. Escreva abaixo um código python que acesse o link http://web.mta.info/developers/turnstile.html e baixe os arquivos do mês de junho de 2017. O arquivo deverá ser salvo com o nome turnstile_100617.txt onde 10/06/17 é a data do arquivo.\n",
    "\n",
    "Abaixo seguem alguns comandos que poderão te ajudar:\n",
    "\n",
    "Utilize a biblioteca **urllib** para abrir e resgatar uma página da web. Utilize o comando abaixo onde **url** será o caminho da página da web onde se encontra o arquivo:\n",
    "\n",
    "```python\n",
    "u = urllib.urlopen(url)\n",
    "html = u.read()\n",
    "```\n",
    "\n",
    "Utilize a biblioteca **BeautifulSoup** para procurar na página pelo link do arquivo que deseja baixar. Utilize o comando abaixo para criar o seu objeto *soup* e procurar por todas as tags 'a'no documento:\n",
    " \n",
    " \n",
    "```python\n",
    "soup = BeautifulSoup(html, \"html.parser\")\n",
    "links = soup.find_all('a')\n",
    "```\n",
    "\n",
    "Uma dica para baixar apenas os arquivos do mês de junho é verificar a data no nome do arquivo. Por exemplo, para baixar o arquivo do dia 17/06/2017 verifique se o link termina com *\"turnstile_170610.txt\"*. Se não fizer isso você baixará todos os arquivos da página. Para fazer isso utilize o comando conforme abaixo:\n",
    "\n",
    "```python\n",
    "if '1706' in link.get('href'):\n",
    "```\n",
    "\n",
    "E a dica final é utilizar o comando abaixo para fazer o download do arquivo txt:\n",
    "\n",
    "```python\n",
    "urllib.urlretrieve(link_do_arquivo, filename)\n",
    "```\n",
    "\n",
    "Lembre-se, primeiro, carregue todos os pacotes e funções que você estará usando em sua análise."
   ]
  },
  {
   "cell_type": "code",
   "execution_count": 1,
   "metadata": {},
   "outputs": [
    {
     "name": "stdout",
     "output_type": "stream",
     "text": [
      "['turnstile_170624.txt', 'turnstile_170617.txt', 'turnstile_170610.txt', 'turnstile_170603.txt']\n"
     ]
    }
   ],
   "source": [
    "import urllib\n",
    "from bs4 import BeautifulSoup\n",
    "\n",
    "#your code here\n",
    "url = 'http://web.mta.info/developers/turnstile.html'\n",
    "u = urllib.urlopen(url)\n",
    "html = u.read()\n",
    "soup = BeautifulSoup(html, \"html.parser\")\n",
    "links = soup.find_all('a')\n",
    "filenames=[]\n",
    "for i in links:\n",
    "    if  i.get('href')==None :\n",
    "        continue     \n",
    "    \n",
    "    if '1706' in i.get('href'):\n",
    "        filename =  'turnstile_'+i.get('href')[-10:-1]+'t'\n",
    "        site = \"http://web.mta.info/developers/\"+i.get('href')\n",
    "        #urllib.urlretrieve(site,filename)\n",
    "        filename = filename.encode('ascii', 'ignore')\n",
    "        filenames.append(filename)\n",
    "print filenames"
   ]
  },
  {
   "cell_type": "markdown",
   "metadata": {},
   "source": [
    "### *Exercicio 1.2*\n",
    "\n",
    "Escreva uma função que pegue a lista de nomes dos arquivos que você baixou no exercicio 1.1 e consolide-os em um único arquivo. Deve existir apenas uma linha de cabeçalho no arquivo de saida. \n",
    "\n",
    "Por exemplo, se o arquivo_1 tiver:\n",
    "linha 1...\n",
    "linha 2...\n",
    "\n",
    "e o outro arquivo, arquivo_2 tiver:\n",
    "linha 3...\n",
    "linha 4...\n",
    "linha 5...\n",
    "\n",
    "Devemos combinar o arquivo_1 com arquivo_2 em um arquivo mestre conforme abaixo:\n",
    "\n",
    "'C/A, UNIT, SCP, DATEn, TIMEn, DESCn, ENTRIESn, EXITSn'\n",
    "linha 1...\n",
    "linha 2...\n",
    "linha 3...\n",
    "linha 4...\n",
    "linha 5...\n"
   ]
  },
  {
   "cell_type": "code",
   "execution_count": 2,
   "metadata": {
    "collapsed": true
   },
   "outputs": [],
   "source": [
    "\n",
    "def create_master_turnstile_file(filenames, output_file):\n",
    "    with open(output_file, 'w') as master_file:\n",
    "        master_file.write('C/A,UNIT,SCP,STATION, LINENAME, DIVISION, DATEn,TIMEn,DESCn,ENTRIESn,EXITSn\\n')\n",
    "        for filename in filenames:\n",
    "            # your code here\n",
    "            with open(filename, 'r') as i:\n",
    "                for line in i:\n",
    "                    master_file.write(line)\n",
    "                \n",
    "#def create_master_turnstile_file(turnstile_170603.txt,turnstile_170610.txt)\n",
    "create_master_turnstile_file(filenames,'b')"
   ]
  },
  {
   "cell_type": "markdown",
   "metadata": {},
   "source": [
    "### *Exercicio 1.3*\n",
    "\n",
    "Neste exercício, escreva um função que leia o master_file criado no exercicio anterior e carregue-o em um pandas dataframe. Esta função deve filtrar para que o dataframe possua apenas linhas onde a coluna \"DESCn\" possua o valor \"Regular\".\n",
    "\n",
    "Por exemplo, se o data frame do pandas estiver conforme abaixo:\n",
    "    \n",
    "    ,C/A,UNIT,SCP,DATEn,TIMEn,DESCn,ENTRIESn,EXITSn\n",
    "    0,A002,R051,02-00-00,05-01-11,00:00:00,REGULAR,3144312,1088151\n",
    "    1,A002,R051,02-00-00,05-01-11,04:00:00,DOOR,3144335,1088159\n",
    "    2,A002,R051,02-00-00,05-01-11,08:00:00,REGULAR,3144353,1088177\n",
    "    3,A002,R051,02-00-00,05-01-11,12:00:00,DOOR,3144424,1088231\n",
    "\n",
    "O dataframe deverá ficar conforme abaixo depois de filtrar apenas as linhas onde a coluna DESCn possua o valor REGULAR:\n",
    "\n",
    "    0,A002,R051,02-00-00,05-01-11,00:00:00,REGULAR,3144312,1088151\n",
    "    2,A002,R051,02-00-00,05-01-11,08:00:00,REGULAR,3144353,1088177\n"
   ]
  },
  {
   "cell_type": "code",
   "execution_count": 113,
   "metadata": {},
   "outputs": [
    {
     "name": "stdout",
     "output_type": "stream",
     "text": [
      "     0     1         2      3        4    5           6         7        8   \\\n",
      "0  A002  R051  02-00-00  59 ST  NQR456W  BMT  06/17/2017  00:00:00  REGULAR   \n",
      "1  A002  R051  02-00-00  59 ST  NQR456W  BMT  06/17/2017  04:00:00  REGULAR   \n",
      "\n",
      "           9        10  \n",
      "0  0006224816  2107317  \n",
      "1  0006224850  2107322  \n"
     ]
    }
   ],
   "source": [
    "print turnstile_data.head(2)\n"
   ]
  },
  {
   "cell_type": "code",
   "execution_count": 3,
   "metadata": {},
   "outputs": [
    {
     "name": "stderr",
     "output_type": "stream",
     "text": [
      "C:\\Users\\rodney\\Anaconda2\\lib\\site-packages\\IPython\\core\\interactiveshell.py:2822: DtypeWarning: Columns (9,10) have mixed types. Specify dtype option on import or set low_memory=False.\n",
      "  if self.run_code(code, result):\n"
     ]
    }
   ],
   "source": [
    "import pandas as pd\n",
    "\n",
    "def filter_by_regular(filename):\n",
    "    turnstile_data = pd.read_csv(filename, header=None)\n",
    "    \n",
    "    turnstile_data[turnstile_data[8]=='REGULAR']\n",
    "    for i in range(0,len(turnstile_data)):\n",
    "            try:\n",
    "                turnstile_data.at[i,10] = int(turnstile_data.at[i,10])\n",
    "            except ValueError:\n",
    "                 continue\n",
    "    return turnstile_data\n",
    "turnstile_data = filter_by_regular('b')\n",
    "turnstile_data.drop([0,1],inplace=True)\n",
    "turnstile_data = turnstile_data.reset_index(drop=True)"
   ]
  },
  {
   "cell_type": "markdown",
   "metadata": {},
   "source": [
    "### *Exercicio 1.4*\n",
    "\n",
    "\n",
    "Os dados do metrô de NY possui dados cumulativos de entradas e saidas por linha. Assuma que você possui um dataframe chamado df que contém apenas linhas para uma catraca em particular (unico SCP, C/A, e UNIT). A função abaixo deve alterar essas entradas cumulativas para a contagem de entradas desde a última leitura (entradas desde a última linha do dataframe).\n",
    "\n",
    "Mais especificamente, você deverá fazer duas coisas:\n",
    "\n",
    "1 - Criar uma nova coluna chamada ENTRIESn_hourly\n",
    "2 - Inserir nessa coluna a diferença enre ENTRIESn da coluna atual e a da coluna anterior. Se a linha possuir alguma NAN, preencha/substitua por 1.\n",
    "\n",
    "Dica: as funções do pandas shift() e fillna() pode ser úteis nesse exercicio.\n",
    "\n",
    "Abaixo tem um exemplo de como seu dataframe deve ficar ao final desse exercicio:\n",
    "\n",
    "        C/A  UNIT       SCP     DATEn     TIMEn    DESCn  ENTRIESn    EXITSn  ENTRIESn_hourly\n",
    "    0     A002  R051  02-00-00  05-01-11  00:00:00  REGULAR   3144312   1088151                1\n",
    "    1     A002  R051  02-00-00  05-01-11  04:00:00  REGULAR   3144335   1088159               23\n",
    "    2     A002  R051  02-00-00  05-01-11  08:00:00  REGULAR   3144353   1088177               18\n",
    "    3     A002  R051  02-00-00  05-01-11  12:00:00  REGULAR   3144424   1088231               71\n",
    "    4     A002  R051  02-00-00  05-01-11  16:00:00  REGULAR   3144594   1088275              170\n",
    "    5     A002  R051  02-00-00  05-01-11  20:00:00  REGULAR   3144808   1088317              214\n",
    "    6     A002  R051  02-00-00  05-02-11  00:00:00  REGULAR   3144895   1088328               87\n",
    "    7     A002  R051  02-00-00  05-02-11  04:00:00  REGULAR   3144905   1088331               10\n",
    "    8     A002  R051  02-00-00  05-02-11  08:00:00  REGULAR   3144941   1088420               36\n",
    "    9     A002  R051  02-00-00  05-02-11  12:00:00  REGULAR   3145094   1088753              153\n",
    "    10    A002  R051  02-00-00  05-02-11  16:00:00  REGULAR   3145337   1088823              243"
   ]
  },
  {
   "cell_type": "code",
   "execution_count": 4,
   "metadata": {},
   "outputs": [
    {
     "name": "stdout",
     "output_type": "stream",
     "text": [
      "          C/A  UNIT       SCP       DATEn     TIMEn    DESCn    ENTRIESn  \\\n",
      "0        A002  R051  02-00-00  06/17/2017  00:00:00  REGULAR  0006224816   \n",
      "1        A002  R051  02-00-00  06/17/2017  04:00:00  REGULAR  0006224850   \n",
      "2        A002  R051  02-00-00  06/17/2017  08:00:00  REGULAR  0006224885   \n",
      "3        A002  R051  02-00-00  06/17/2017  12:00:00  REGULAR  0006225005   \n",
      "4        A002  R051  02-00-00  06/17/2017  16:00:00  REGULAR  0006225248   \n",
      "5        A002  R051  02-00-00  06/17/2017  20:00:00  REGULAR  0006225548   \n",
      "6        A002  R051  02-00-00  06/18/2017  00:00:00  REGULAR  0006225716   \n",
      "7        A002  R051  02-00-00  06/18/2017  04:00:00  REGULAR  0006225741   \n",
      "8        A002  R051  02-00-00  06/18/2017  08:00:00  REGULAR  0006225762   \n",
      "9        A002  R051  02-00-00  06/18/2017  12:00:00  REGULAR  0006225879   \n",
      "10       A002  R051  02-00-00  06/18/2017  16:00:00  REGULAR  0006226063   \n",
      "11       A002  R051  02-00-00  06/18/2017  20:00:00  REGULAR  0006226295   \n",
      "12       A002  R051  02-00-00  06/19/2017  00:00:00  REGULAR  0006226407   \n",
      "13       A002  R051  02-00-00  06/19/2017  04:00:00  REGULAR  0006226413   \n",
      "14       A002  R051  02-00-00  06/19/2017  08:00:00  REGULAR  0006226460   \n",
      "15       A002  R051  02-00-00  06/19/2017  12:00:00  REGULAR  0006226625   \n",
      "16       A002  R051  02-00-00  06/19/2017  16:00:00  REGULAR  0006226906   \n",
      "17       A002  R051  02-00-00  06/19/2017  20:00:00  REGULAR  0006227611   \n",
      "18       A002  R051  02-00-00  06/20/2017  00:00:00  REGULAR  0006227770   \n",
      "19       A002  R051  02-00-00  06/20/2017  04:00:00  REGULAR  0006227785   \n",
      "20       A002  R051  02-00-00  06/20/2017  08:00:00  REGULAR  0006227837   \n",
      "21       A002  R051  02-00-00  06/20/2017  12:00:00  REGULAR  0006228001   \n",
      "22       A002  R051  02-00-00  06/20/2017  16:00:00  REGULAR  0006228295   \n",
      "23       A002  R051  02-00-00  06/20/2017  20:00:00  REGULAR  0006229118   \n",
      "24       A002  R051  02-00-00  06/21/2017  00:00:00  REGULAR  0006229332   \n",
      "25       A002  R051  02-00-00  06/21/2017  04:00:00  REGULAR  0006229347   \n",
      "26       A002  R051  02-00-00  06/21/2017  08:00:00  REGULAR  0006229394   \n",
      "27       A002  R051  02-00-00  06/21/2017  12:00:00  REGULAR  0006229553   \n",
      "28       A002  R051  02-00-00  06/21/2017  16:00:00  REGULAR  0006229829   \n",
      "29       A002  R051  02-00-00  06/21/2017  20:00:00  REGULAR  0006230582   \n",
      "...       ...   ...       ...         ...       ...      ...         ...   \n",
      "788187  TRAM2  R469  00-05-01  05/29/2017  01:00:00  REGULAR        5554   \n",
      "788188  TRAM2  R469  00-05-01  05/29/2017  05:00:00  REGULAR        5554   \n",
      "788189  TRAM2  R469  00-05-01  05/29/2017  09:00:00  REGULAR        5554   \n",
      "788190  TRAM2  R469  00-05-01  05/29/2017  13:00:00  REGULAR        5554   \n",
      "788191  TRAM2  R469  00-05-01  05/29/2017  17:00:00  REGULAR        5554   \n",
      "788192  TRAM2  R469  00-05-01  05/29/2017  21:00:00  REGULAR        5554   \n",
      "788193  TRAM2  R469  00-05-01  05/30/2017  01:00:00  REGULAR        5554   \n",
      "788194  TRAM2  R469  00-05-01  05/30/2017  05:00:00  REGULAR        5554   \n",
      "788195  TRAM2  R469  00-05-01  05/30/2017  09:00:00  REGULAR        5554   \n",
      "788196  TRAM2  R469  00-05-01  05/30/2017  13:00:00  REGULAR        5554   \n",
      "788197  TRAM2  R469  00-05-01  05/30/2017  17:00:00  REGULAR        5554   \n",
      "788198  TRAM2  R469  00-05-01  05/30/2017  21:00:00  REGULAR        5554   \n",
      "788199  TRAM2  R469  00-05-01  05/31/2017  01:00:00  REGULAR        5554   \n",
      "788200  TRAM2  R469  00-05-01  05/31/2017  05:00:00  REGULAR        5554   \n",
      "788201  TRAM2  R469  00-05-01  05/31/2017  09:00:00  REGULAR        5554   \n",
      "788202  TRAM2  R469  00-05-01  05/31/2017  13:00:00  REGULAR        5554   \n",
      "788203  TRAM2  R469  00-05-01  05/31/2017  17:00:00  REGULAR        5554   \n",
      "788204  TRAM2  R469  00-05-01  05/31/2017  21:00:00  REGULAR        5554   \n",
      "788205  TRAM2  R469  00-05-01  06/01/2017  01:00:00  REGULAR        5554   \n",
      "788206  TRAM2  R469  00-05-01  06/01/2017  05:00:00  REGULAR        5554   \n",
      "788207  TRAM2  R469  00-05-01  06/01/2017  09:00:00  REGULAR        5554   \n",
      "788208  TRAM2  R469  00-05-01  06/01/2017  13:00:00  REGULAR        5554   \n",
      "788209  TRAM2  R469  00-05-01  06/01/2017  17:00:00  REGULAR        5554   \n",
      "788210  TRAM2  R469  00-05-01  06/01/2017  21:00:00  REGULAR        5554   \n",
      "788211  TRAM2  R469  00-05-01  06/02/2017  01:00:00  REGULAR        5554   \n",
      "788212  TRAM2  R469  00-05-01  06/02/2017  05:00:00  REGULAR        5554   \n",
      "788213  TRAM2  R469  00-05-01  06/02/2017  09:00:00  REGULAR        5554   \n",
      "788214  TRAM2  R469  00-05-01  06/02/2017  13:00:00  REGULAR        5554   \n",
      "788215  TRAM2  R469  00-05-01  06/02/2017  17:00:00  REGULAR        5554   \n",
      "788216  TRAM2  R469  00-05-01  06/02/2017  21:00:00  REGULAR        5554   \n",
      "\n",
      "         EXITSn  ENTRIESn_hourly  \n",
      "0       2107317                1  \n",
      "1       2107322               34  \n",
      "2       2107352               35  \n",
      "3       2107452              120  \n",
      "4       2107513              243  \n",
      "5       2107565              300  \n",
      "6       2107586              168  \n",
      "7       2107590               25  \n",
      "8       2107607               21  \n",
      "9       2107676              117  \n",
      "10      2107714              184  \n",
      "11      2107755              232  \n",
      "12      2107778              112  \n",
      "13      2107779                6  \n",
      "14      2107870               47  \n",
      "15      2108117              165  \n",
      "16      2108190              281  \n",
      "17      2108288              705  \n",
      "18      2108316              159  \n",
      "19      2108321               15  \n",
      "20      2108448               52  \n",
      "21      2108732              164  \n",
      "22      2108798              294  \n",
      "23      2108869              823  \n",
      "24      2108905              214  \n",
      "25      2108906               15  \n",
      "26      2109010               47  \n",
      "27      2109269              159  \n",
      "28      2109341              276  \n",
      "29      2109401              753  \n",
      "...         ...              ...  \n",
      "788187      299                0  \n",
      "788188      299                0  \n",
      "788189      299                0  \n",
      "788190      299                0  \n",
      "788191      299                0  \n",
      "788192      299                0  \n",
      "788193      299                0  \n",
      "788194      299                0  \n",
      "788195      299                0  \n",
      "788196      299                0  \n",
      "788197      299                0  \n",
      "788198      299                0  \n",
      "788199      299                0  \n",
      "788200      299                0  \n",
      "788201      299                0  \n",
      "788202      299                0  \n",
      "788203      299                0  \n",
      "788204      299                0  \n",
      "788205      299                0  \n",
      "788206      299                0  \n",
      "788207      299                0  \n",
      "788208      299                0  \n",
      "788209      299                0  \n",
      "788210      299                0  \n",
      "788211      299                0  \n",
      "788212      299                0  \n",
      "788213      299                0  \n",
      "788214      299                0  \n",
      "788215      299                0  \n",
      "788216      299                0  \n",
      "\n",
      "[788217 rows x 9 columns]\n"
     ]
    }
   ],
   "source": [
    "import pandas\n",
    "df = turnstile_data\n",
    "def get_hourly_entries(df):\n",
    "    df.drop(df.columns[[3, 4, 5]], axis=1,inplace=True)\n",
    "    df['ENTRIESn_hourly'] = 1\n",
    "    df.columns = ['C/A','UNIT','SCP','DATEn','TIMEn','DESCn','ENTRIESn','EXITSn','ENTRIESn_hourly']\n",
    "    #len(df)-3\n",
    "    for i in range(1,len(df)):\n",
    "        try:\n",
    "            df.at[i,'ENTRIESn_hourly'] = float(df.at[i,'ENTRIESn']) - float(df.at[i-1,'ENTRIESn'])\n",
    "        except ValueError:\n",
    "            continue\n",
    "        #your code here\n",
    "    df.fillna(1)\n",
    "    return df\n",
    "a = get_hourly_entries(df)\n",
    "print a"
   ]
  },
  {
   "cell_type": "markdown",
   "metadata": {},
   "source": [
    "### *Exercicio 1.5*\n",
    "\n",
    "Faça o mesmo do exercicio anterior mas agora considerando as saidas, coluna EXITSn.\n",
    "Para isso crie uma coluna chamada de EXITSn_hourly e insira a diferença entre a coluna EXITSn da linha atual versus a linha anterior. Se tiver algum NaN, preencha/substitua por 0.\n",
    "\n"
   ]
  },
  {
   "cell_type": "code",
   "execution_count": 11,
   "metadata": {},
   "outputs": [
    {
     "name": "stdout",
     "output_type": "stream",
     "text": [
      "          C/A  UNIT       SCP       DATEn     TIMEn    DESCn    ENTRIESn  \\\n",
      "0        A002  R051  02-00-00  06/17/2017  00:00:00  REGULAR  0006224816   \n",
      "1        A002  R051  02-00-00  06/17/2017  04:00:00  REGULAR  0006224850   \n",
      "2        A002  R051  02-00-00  06/17/2017  08:00:00  REGULAR  0006224885   \n",
      "3        A002  R051  02-00-00  06/17/2017  12:00:00  REGULAR  0006225005   \n",
      "4        A002  R051  02-00-00  06/17/2017  16:00:00  REGULAR  0006225248   \n",
      "5        A002  R051  02-00-00  06/17/2017  20:00:00  REGULAR  0006225548   \n",
      "6        A002  R051  02-00-00  06/18/2017  00:00:00  REGULAR  0006225716   \n",
      "7        A002  R051  02-00-00  06/18/2017  04:00:00  REGULAR  0006225741   \n",
      "8        A002  R051  02-00-00  06/18/2017  08:00:00  REGULAR  0006225762   \n",
      "9        A002  R051  02-00-00  06/18/2017  12:00:00  REGULAR  0006225879   \n",
      "10       A002  R051  02-00-00  06/18/2017  16:00:00  REGULAR  0006226063   \n",
      "11       A002  R051  02-00-00  06/18/2017  20:00:00  REGULAR  0006226295   \n",
      "12       A002  R051  02-00-00  06/19/2017  00:00:00  REGULAR  0006226407   \n",
      "13       A002  R051  02-00-00  06/19/2017  04:00:00  REGULAR  0006226413   \n",
      "14       A002  R051  02-00-00  06/19/2017  08:00:00  REGULAR  0006226460   \n",
      "15       A002  R051  02-00-00  06/19/2017  12:00:00  REGULAR  0006226625   \n",
      "16       A002  R051  02-00-00  06/19/2017  16:00:00  REGULAR  0006226906   \n",
      "17       A002  R051  02-00-00  06/19/2017  20:00:00  REGULAR  0006227611   \n",
      "18       A002  R051  02-00-00  06/20/2017  00:00:00  REGULAR  0006227770   \n",
      "19       A002  R051  02-00-00  06/20/2017  04:00:00  REGULAR  0006227785   \n",
      "20       A002  R051  02-00-00  06/20/2017  08:00:00  REGULAR  0006227837   \n",
      "21       A002  R051  02-00-00  06/20/2017  12:00:00  REGULAR  0006228001   \n",
      "22       A002  R051  02-00-00  06/20/2017  16:00:00  REGULAR  0006228295   \n",
      "23       A002  R051  02-00-00  06/20/2017  20:00:00  REGULAR  0006229118   \n",
      "24       A002  R051  02-00-00  06/21/2017  00:00:00  REGULAR  0006229332   \n",
      "25       A002  R051  02-00-00  06/21/2017  04:00:00  REGULAR  0006229347   \n",
      "26       A002  R051  02-00-00  06/21/2017  08:00:00  REGULAR  0006229394   \n",
      "27       A002  R051  02-00-00  06/21/2017  12:00:00  REGULAR  0006229553   \n",
      "28       A002  R051  02-00-00  06/21/2017  16:00:00  REGULAR  0006229829   \n",
      "29       A002  R051  02-00-00  06/21/2017  20:00:00  REGULAR  0006230582   \n",
      "...       ...   ...       ...         ...       ...      ...         ...   \n",
      "788187  TRAM2  R469  00-05-01  05/29/2017  01:00:00  REGULAR        5554   \n",
      "788188  TRAM2  R469  00-05-01  05/29/2017  05:00:00  REGULAR        5554   \n",
      "788189  TRAM2  R469  00-05-01  05/29/2017  09:00:00  REGULAR        5554   \n",
      "788190  TRAM2  R469  00-05-01  05/29/2017  13:00:00  REGULAR        5554   \n",
      "788191  TRAM2  R469  00-05-01  05/29/2017  17:00:00  REGULAR        5554   \n",
      "788192  TRAM2  R469  00-05-01  05/29/2017  21:00:00  REGULAR        5554   \n",
      "788193  TRAM2  R469  00-05-01  05/30/2017  01:00:00  REGULAR        5554   \n",
      "788194  TRAM2  R469  00-05-01  05/30/2017  05:00:00  REGULAR        5554   \n",
      "788195  TRAM2  R469  00-05-01  05/30/2017  09:00:00  REGULAR        5554   \n",
      "788196  TRAM2  R469  00-05-01  05/30/2017  13:00:00  REGULAR        5554   \n",
      "788197  TRAM2  R469  00-05-01  05/30/2017  17:00:00  REGULAR        5554   \n",
      "788198  TRAM2  R469  00-05-01  05/30/2017  21:00:00  REGULAR        5554   \n",
      "788199  TRAM2  R469  00-05-01  05/31/2017  01:00:00  REGULAR        5554   \n",
      "788200  TRAM2  R469  00-05-01  05/31/2017  05:00:00  REGULAR        5554   \n",
      "788201  TRAM2  R469  00-05-01  05/31/2017  09:00:00  REGULAR        5554   \n",
      "788202  TRAM2  R469  00-05-01  05/31/2017  13:00:00  REGULAR        5554   \n",
      "788203  TRAM2  R469  00-05-01  05/31/2017  17:00:00  REGULAR        5554   \n",
      "788204  TRAM2  R469  00-05-01  05/31/2017  21:00:00  REGULAR        5554   \n",
      "788205  TRAM2  R469  00-05-01  06/01/2017  01:00:00  REGULAR        5554   \n",
      "788206  TRAM2  R469  00-05-01  06/01/2017  05:00:00  REGULAR        5554   \n",
      "788207  TRAM2  R469  00-05-01  06/01/2017  09:00:00  REGULAR        5554   \n",
      "788208  TRAM2  R469  00-05-01  06/01/2017  13:00:00  REGULAR        5554   \n",
      "788209  TRAM2  R469  00-05-01  06/01/2017  17:00:00  REGULAR        5554   \n",
      "788210  TRAM2  R469  00-05-01  06/01/2017  21:00:00  REGULAR        5554   \n",
      "788211  TRAM2  R469  00-05-01  06/02/2017  01:00:00  REGULAR        5554   \n",
      "788212  TRAM2  R469  00-05-01  06/02/2017  05:00:00  REGULAR        5554   \n",
      "788213  TRAM2  R469  00-05-01  06/02/2017  09:00:00  REGULAR        5554   \n",
      "788214  TRAM2  R469  00-05-01  06/02/2017  13:00:00  REGULAR        5554   \n",
      "788215  TRAM2  R469  00-05-01  06/02/2017  17:00:00  REGULAR        5554   \n",
      "788216  TRAM2  R469  00-05-01  06/02/2017  21:00:00  REGULAR        5554   \n",
      "\n",
      "         EXITSn  ENTRIESn_hourly  EXITSn_hourly  \n",
      "0       2107317                1              0  \n",
      "1       2107322               34              5  \n",
      "2       2107352               35             30  \n",
      "3       2107452              120            100  \n",
      "4       2107513              243             61  \n",
      "5       2107565              300             52  \n",
      "6       2107586              168             21  \n",
      "7       2107590               25              4  \n",
      "8       2107607               21             17  \n",
      "9       2107676              117             69  \n",
      "10      2107714              184             38  \n",
      "11      2107755              232             41  \n",
      "12      2107778              112             23  \n",
      "13      2107779                6              1  \n",
      "14      2107870               47             91  \n",
      "15      2108117              165            247  \n",
      "16      2108190              281             73  \n",
      "17      2108288              705             98  \n",
      "18      2108316              159             28  \n",
      "19      2108321               15              5  \n",
      "20      2108448               52            127  \n",
      "21      2108732              164            284  \n",
      "22      2108798              294             66  \n",
      "23      2108869              823             71  \n",
      "24      2108905              214             36  \n",
      "25      2108906               15              1  \n",
      "26      2109010               47            104  \n",
      "27      2109269              159            259  \n",
      "28      2109341              276             72  \n",
      "29      2109401              753             60  \n",
      "...         ...              ...            ...  \n",
      "788187      299                0              0  \n",
      "788188      299                0              0  \n",
      "788189      299                0              0  \n",
      "788190      299                0              0  \n",
      "788191      299                0              0  \n",
      "788192      299                0              0  \n",
      "788193      299                0              0  \n",
      "788194      299                0              0  \n",
      "788195      299                0              0  \n",
      "788196      299                0              0  \n",
      "788197      299                0              0  \n",
      "788198      299                0              0  \n",
      "788199      299                0              0  \n",
      "788200      299                0              0  \n",
      "788201      299                0              0  \n",
      "788202      299                0              0  \n",
      "788203      299                0              0  \n",
      "788204      299                0              0  \n",
      "788205      299                0              0  \n",
      "788206      299                0              0  \n",
      "788207      299                0              0  \n",
      "788208      299                0              0  \n",
      "788209      299                0              0  \n",
      "788210      299                0              0  \n",
      "788211      299                0              0  \n",
      "788212      299                0              0  \n",
      "788213      299                0              0  \n",
      "788214      299                0              0  \n",
      "788215      299                0              0  \n",
      "788216      299                0              0  \n",
      "\n",
      "[788217 rows x 10 columns]\n"
     ]
    }
   ],
   "source": [
    "import pandas\n",
    "\n",
    "def get_hourly_exits(df):\n",
    "    \n",
    "    df['EXITSn_hourly'] = 0\n",
    "    for i in range(1,len(df)):\n",
    "        try:\n",
    "            df.at[i,'EXITSn_hourly' ] = float(df.at[i,'EXITSn']) - float(df.at[i-1,'EXITSn'])\n",
    "        except ValueError:\n",
    "            continue\n",
    "        #your code here\n",
    "    df.fillna(0)\n",
    "    return df\n",
    "    #your code here\n",
    "get_hourly_exits(a)\n",
    "print a"
   ]
  },
  {
   "cell_type": "markdown",
   "metadata": {},
   "source": [
    "### *Exercicio 1.6*\n",
    "\n",
    "Dado uma variável de entrada que representa o tempo no formato de:\n",
    "     \"00:00:00\" (hora: minutos: segundos)\n",
    "    \n",
    "Escreva uma função para extrair a parte da hora do tempo variável de entrada\n",
    "E devolva-o como um número inteiro. Por exemplo:\n",
    "         \n",
    "         1) se a hora for 00, seu código deve retornar 0\n",
    "         2) se a hora for 01, seu código deve retornar 1\n",
    "         3) se a hora for 21, seu código deve retornar 21\n",
    "        \n",
    "Por favor, devolva a hora como um número inteiro.\n"
   ]
  },
  {
   "cell_type": "code",
   "execution_count": 22,
   "metadata": {},
   "outputs": [
    {
     "name": "stdout",
     "output_type": "stream",
     "text": [
      "22\n"
     ]
    }
   ],
   "source": [
    "def time_to_hour(time):\n",
    "    \n",
    "    hour = time[0:2]\n",
    "    return int(hour)\n",
    "print time_to_hour('22:30:34')"
   ]
  },
  {
   "cell_type": "markdown",
   "metadata": {},
   "source": [
    "## Exercicio 2 - Análise dos dados\n",
    "\n",
    "### *Exercicio 2.1*\n",
    "\n",
    "Para verificar a relação entre o movimento do metrô e o clima, precisaremos complementar os dados do arquivo já baixado com os dados do clima.\n",
    "Nós complementamos para você este arquivo com os dados de clima de Nova Iorque  e disponibilizamos na área de materiais do projeto. Você pode acessa-lo pelo link: https://s3.amazonaws.com/content.udacity-data.com/courses/ud359/turnstile_data_master_with_weather.csv\n",
    "\n",
    "Agora que temos nossos dados em um arquivo csv, escreva um código python que leia este arquivo e salve-o em um data frame do pandas. \n",
    "\n",
    "Dica: \n",
    "\n",
    "Utilize o comando abaixo para ler o arquivo:\n",
    "\n",
    "```python\n",
    "pd.read_csv('output_list.txt', sep=\",\")\n",
    "```\n",
    "\n"
   ]
  },
  {
   "cell_type": "code",
   "execution_count": 5,
   "metadata": {
    "collapsed": true
   },
   "outputs": [],
   "source": [
    "import pandas as pd\n",
    "\n",
    "filename = \"turnstile_data_master_with_weather.csv\"\n",
    "dfw = pd.read_csv(filename, sep=\",\")\n",
    "\n",
    "#your code here"
   ]
  },
  {
   "cell_type": "code",
   "execution_count": 22,
   "metadata": {},
   "outputs": [
    {
     "data": {
      "text/html": [
       "<div>\n",
       "<style>\n",
       "    .dataframe thead tr:only-child th {\n",
       "        text-align: right;\n",
       "    }\n",
       "\n",
       "    .dataframe thead th {\n",
       "        text-align: left;\n",
       "    }\n",
       "\n",
       "    .dataframe tbody tr th {\n",
       "        vertical-align: top;\n",
       "    }\n",
       "</style>\n",
       "<table border=\"1\" class=\"dataframe\">\n",
       "  <thead>\n",
       "    <tr style=\"text-align: right;\">\n",
       "      <th></th>\n",
       "      <th>Unnamed: 0</th>\n",
       "      <th>UNIT</th>\n",
       "      <th>DATEn</th>\n",
       "      <th>TIMEn</th>\n",
       "      <th>Hour</th>\n",
       "      <th>DESCn</th>\n",
       "      <th>ENTRIESn_hourly</th>\n",
       "      <th>EXITSn_hourly</th>\n",
       "      <th>maxpressurei</th>\n",
       "      <th>maxdewpti</th>\n",
       "      <th>...</th>\n",
       "      <th>meandewpti</th>\n",
       "      <th>meanpressurei</th>\n",
       "      <th>fog</th>\n",
       "      <th>rain</th>\n",
       "      <th>meanwindspdi</th>\n",
       "      <th>mintempi</th>\n",
       "      <th>meantempi</th>\n",
       "      <th>maxtempi</th>\n",
       "      <th>precipi</th>\n",
       "      <th>thunder</th>\n",
       "    </tr>\n",
       "  </thead>\n",
       "  <tbody>\n",
       "    <tr>\n",
       "      <th>131948</th>\n",
       "      <td>131948</td>\n",
       "      <td>R552</td>\n",
       "      <td>2011-05-30</td>\n",
       "      <td>23:28:44</td>\n",
       "      <td>23</td>\n",
       "      <td>REGULAR</td>\n",
       "      <td>54.0</td>\n",
       "      <td>275.0</td>\n",
       "      <td>30.13</td>\n",
       "      <td>70.0</td>\n",
       "      <td>...</td>\n",
       "      <td>68.0</td>\n",
       "      <td>30.08</td>\n",
       "      <td>0.0</td>\n",
       "      <td>1.0</td>\n",
       "      <td>5.0</td>\n",
       "      <td>70.0</td>\n",
       "      <td>78.0</td>\n",
       "      <td>86.0</td>\n",
       "      <td>0.29</td>\n",
       "      <td>0.0</td>\n",
       "    </tr>\n",
       "    <tr>\n",
       "      <th>131949</th>\n",
       "      <td>131949</td>\n",
       "      <td>R552</td>\n",
       "      <td>2011-05-30</td>\n",
       "      <td>23:35:45</td>\n",
       "      <td>23</td>\n",
       "      <td>REGULAR</td>\n",
       "      <td>59.0</td>\n",
       "      <td>46.0</td>\n",
       "      <td>30.13</td>\n",
       "      <td>70.0</td>\n",
       "      <td>...</td>\n",
       "      <td>68.0</td>\n",
       "      <td>30.08</td>\n",
       "      <td>0.0</td>\n",
       "      <td>1.0</td>\n",
       "      <td>5.0</td>\n",
       "      <td>70.0</td>\n",
       "      <td>78.0</td>\n",
       "      <td>86.0</td>\n",
       "      <td>0.29</td>\n",
       "      <td>0.0</td>\n",
       "    </tr>\n",
       "    <tr>\n",
       "      <th>131950</th>\n",
       "      <td>131950</td>\n",
       "      <td>R552</td>\n",
       "      <td>2011-05-30</td>\n",
       "      <td>23:50:47</td>\n",
       "      <td>23</td>\n",
       "      <td>REGULAR</td>\n",
       "      <td>123.0</td>\n",
       "      <td>108.0</td>\n",
       "      <td>30.13</td>\n",
       "      <td>70.0</td>\n",
       "      <td>...</td>\n",
       "      <td>68.0</td>\n",
       "      <td>30.08</td>\n",
       "      <td>0.0</td>\n",
       "      <td>1.0</td>\n",
       "      <td>5.0</td>\n",
       "      <td>70.0</td>\n",
       "      <td>78.0</td>\n",
       "      <td>86.0</td>\n",
       "      <td>0.29</td>\n",
       "      <td>0.0</td>\n",
       "    </tr>\n",
       "  </tbody>\n",
       "</table>\n",
       "<p>3 rows × 22 columns</p>\n",
       "</div>"
      ],
      "text/plain": [
       "        Unnamed: 0  UNIT       DATEn     TIMEn  Hour    DESCn  \\\n",
       "131948      131948  R552  2011-05-30  23:28:44    23  REGULAR   \n",
       "131949      131949  R552  2011-05-30  23:35:45    23  REGULAR   \n",
       "131950      131950  R552  2011-05-30  23:50:47    23  REGULAR   \n",
       "\n",
       "        ENTRIESn_hourly  EXITSn_hourly  maxpressurei  maxdewpti   ...     \\\n",
       "131948             54.0          275.0         30.13       70.0   ...      \n",
       "131949             59.0           46.0         30.13       70.0   ...      \n",
       "131950            123.0          108.0         30.13       70.0   ...      \n",
       "\n",
       "        meandewpti  meanpressurei  fog  rain  meanwindspdi  mintempi  \\\n",
       "131948        68.0          30.08  0.0   1.0           5.0      70.0   \n",
       "131949        68.0          30.08  0.0   1.0           5.0      70.0   \n",
       "131950        68.0          30.08  0.0   1.0           5.0      70.0   \n",
       "\n",
       "        meantempi  maxtempi  precipi  thunder  \n",
       "131948       78.0      86.0     0.29      0.0  \n",
       "131949       78.0      86.0     0.29      0.0  \n",
       "131950       78.0      86.0     0.29      0.0  \n",
       "\n",
       "[3 rows x 22 columns]"
      ]
     },
     "execution_count": 22,
     "metadata": {},
     "output_type": "execute_result"
    }
   ],
   "source": [
    "dfw.tail(3)"
   ]
  },
  {
   "cell_type": "markdown",
   "metadata": {},
   "source": [
    "### *Exercicio 2.2*\n",
    "\n",
    "Agora crie uma função que calcule a quantidade de dias chuvosos, para isso retorne a contagem do numero de dias onde a coluna *\"rain\"* é igual a 1.\n",
    "\n",
    "Dica: Você também pode achar que a interpretação de números como números inteiros ou float pode não\n",
    "     funcionar inicialmente. Para contornar esta questão, pode ser útil converter\n",
    "     esses números para números inteiros. Isso pode ser feito escrevendo cast (coluna como inteiro).\n",
    "     Então, por exemplo, se queríamos lançar a coluna maxtempi como um número inteiro, nós devemos\n",
    "     escrever algo como cast (maxtempi as integer) = 76, em oposição a simplesmente\n",
    "     onde maxtempi = 76."
   ]
  },
  {
   "cell_type": "code",
   "execution_count": 27,
   "metadata": {},
   "outputs": [
    {
     "data": {
      "text/plain": [
       "10"
      ]
     },
     "execution_count": 27,
     "metadata": {},
     "output_type": "execute_result"
    }
   ],
   "source": [
    "\n",
    "def num_rainy_days(df):\n",
    "    c = dfw[dfw['rain']==1]\n",
    "    c = c.groupby('DATEn').count()\n",
    "    #your code here\n",
    "    return len(c)\n",
    "num_rainy_days(dfw)"
   ]
  },
  {
   "cell_type": "code",
   "execution_count": null,
   "metadata": {},
   "outputs": [],
   "source": []
  },
  {
   "cell_type": "markdown",
   "metadata": {},
   "source": [
    "### *Exercicio 2.3*\n",
    "\n",
    "Calcule se estava nebuloso ou não (0 ou 1) e a temperatura máxima para fog (isto é, a temperatura máxima \n",
    "     para dias nebulosos)."
   ]
  },
  {
   "cell_type": "code",
   "execution_count": 43,
   "metadata": {},
   "outputs": [
    {
     "data": {
      "text/plain": [
       "81.0"
      ]
     },
     "execution_count": 43,
     "metadata": {},
     "output_type": "execute_result"
    }
   ],
   "source": [
    "\n",
    "def max_temp_aggregate_by_fog(df):\n",
    "    c = dfw[dfw['fog']==1]\n",
    "    #your code here \n",
    "    return c['maxtempi'].max()\n",
    "\n",
    "max_temp_aggregate_by_fog(dfw)    \n",
    "\n"
   ]
  },
  {
   "cell_type": "markdown",
   "metadata": {},
   "source": [
    "### *Exercicio 2.4\n",
    "\n",
    "Calcule agora a média de 'meantempi' nos dias que são sábado ou domingo (finais de semana):"
   ]
  },
  {
   "cell_type": "code",
   "execution_count": 44,
   "metadata": {},
   "outputs": [
    {
     "data": {
      "text/plain": [
       "65.10066685403307"
      ]
     },
     "execution_count": 44,
     "metadata": {},
     "output_type": "execute_result"
    }
   ],
   "source": [
    "def avg_weekend_temperature(filename):\n",
    "    import datetime\n",
    "    meant = 0\n",
    "    count = 0\n",
    "    dfw = pd.read_csv(filename, sep=\",\")\n",
    "    for i in range(0,len(dfw)):\n",
    "        year, month, day = (int(x) for x in dfw.at[i,'DATEn'].split('-'))    \n",
    "        wd = datetime.date(year, month, day).weekday()\n",
    "        if wd==5 or wd==6:\n",
    "            meant = float(dfw.at[i,'meantempi']) + meant\n",
    "            count = count+1\n",
    "    mean_temp_weekends = meant/count \n",
    "    \n",
    "    return mean_temp_weekends\n",
    "avg_weekend_temperature(filename)"
   ]
  },
  {
   "cell_type": "markdown",
   "metadata": {},
   "source": [
    "### *Exercicio 2.5\n",
    "\n",
    "Calcule a média da temperatura mínima 'mintempi' nos dias chuvosos onde da temperatura mínima foi maior que do 55 graus:"
   ]
  },
  {
   "cell_type": "code",
   "execution_count": 48,
   "metadata": {},
   "outputs": [
    {
     "data": {
      "text/plain": [
       "61.238860398860396"
      ]
     },
     "execution_count": 48,
     "metadata": {},
     "output_type": "execute_result"
    }
   ],
   "source": [
    "def avg_min_temperature(filename):\n",
    "    dfw = pd.read_csv(filename, sep=\",\")\n",
    "    meant = 0\n",
    "    count = 0\n",
    "    for i in range(0,len(dfw)):\n",
    "        if dfw.at[i,'rain']==1 and (float(dfw.at[i,'mintempi']) > 55):\n",
    "            meant = float(dfw.at[i,'mintempi']) + meant\n",
    "            count = count+1\n",
    "    avg_min_temp_rainy = meant/count\n",
    "    \n",
    "    return avg_min_temp_rainy\n",
    "avg_min_temperature(filename)"
   ]
  },
  {
   "cell_type": "markdown",
   "metadata": {},
   "source": [
    "### *Exercicio 2.6\n",
    "\n",
    "Antes de realizar qualquer análise, pode ser útil olhar para os dados que esperamos analisar. Mais especificamente, vamos examinR as entradas por hora em nossos dados do metrô de Nova York para determinar a distribuição dos dados. Estes dados são armazenados na coluna ['ENTRIESn_hourly'].\n",
    "    \n",
    "Trace dois histogramas nos mesmos eixos para mostrar as entradas quando esta chovendo vs quando não está chovendo. \n",
    "Abaixo está um exemplo sobre como traçar histogramas com pandas e matplotlib:\n",
    "     \n",
    "```python\n",
    "Turnstile_weather ['column_to_graph']. Hist ()\n",
    "```   \n",
    "    "
   ]
  },
  {
   "cell_type": "code",
   "execution_count": 198,
   "metadata": {
    "scrolled": true
   },
   "outputs": [
    {
     "data": {
      "text/plain": [
       "<matplotlib.figure.Figure at 0x186c1ba8>"
      ]
     },
     "metadata": {},
     "output_type": "display_data"
    },
    {
     "data": {
      "image/png": "[encoded data removed]",
      "text/plain": [
       "<matplotlib.figure.Figure at 0x1680e390>"
      ]
     },
     "metadata": {},
     "output_type": "display_data"
    },
    {
     "data": {
      "text/plain": [
       "<module 'matplotlib.pyplot' from 'C:\\Users\\rodney\\Anaconda2\\lib\\site-packages\\matplotlib\\pyplot.pyc'>"
      ]
     },
     "execution_count": 198,
     "metadata": {},
     "output_type": "execute_result"
    }
   ],
   "source": [
    "import numpy as np\n",
    "import pandas\n",
    "import matplotlib.pyplot as plt\n",
    "import matplotlib.patches as mpatches\n",
    "%matplotlib inline\n",
    "def entries_histogram(turnstile_weather):\n",
    "    \n",
    "    \n",
    "    \n",
    "    plt.figure()\n",
    "    fig, ax = plt.subplots()\n",
    "    turnstile_weather[turnstile_weather['rain']==1]['ENTRIESn_hourly'].hist(bins=50,range=[0,20000],alpha=0.8,color='green') # your code here to plot a historgram for hourly entries when it is raining\n",
    "    turnstile_weather[turnstile_weather['rain']==0]['ENTRIESn_hourly'].hist(bins=50,range=[0,20000],alpha=0.5,color='red')  # your code here to plot a histogram for hourly entries when it is not raining\n",
    "    plt.xlabel('Quantidade de Entradas')\n",
    "    plt.ylabel('Frequencia')\n",
    "    fig.suptitle('Histograma de Entradas', fontsize=20)\n",
    "    brown_patch = mpatches.Patch(color='brown', label='Com chuva')\n",
    "    pink_patch = mpatches.Patch(color='palevioletred', label='Sem chuva')\n",
    "    plt.legend(handles=[brown_patch,pink_patch])\n",
    "    \n",
    "    plt.show()\n",
    "    return plt\n",
    "    \n",
    "entries_histogram(dfw)"
   ]
  },
  {
   "cell_type": "markdown",
   "metadata": {},
   "source": [
    "### *Exercicio 2.7\n",
    "\n",
    "Os dados que acabou de plotar que tipo de ditribuição? Existe diferença na distribuição entre dias chuvosos e não chuvosos?"
   ]
  },
  {
   "cell_type": "markdown",
   "metadata": {},
   "source": [
    "** Resposta **: \n",
    "A distribuição é Assimétrica Positiva(à direita). As duas distribuições se normalizadas são praticamente iguais, só diferem em frequência. Para dias chuvosos a frequência é de 25 mil e para dias sem chuva 50 mil."
   ]
  },
  {
   "cell_type": "markdown",
   "metadata": {},
   "source": [
    "### *Exercicio 2.8\n",
    "\n",
    "Construa uma função que que retorne:\n",
    "\n",
    "1. A média das entradas com chuva\n",
    "2. A média das entradas sem chuva\n",
    "\n",
    "\n"
   ]
  },
  {
   "cell_type": "code",
   "execution_count": 93,
   "metadata": {},
   "outputs": [
    {
     "data": {
      "text/plain": [
       "(1105.4463767458733, 1090.278780151855)"
      ]
     },
     "execution_count": 93,
     "metadata": {},
     "output_type": "execute_result"
    }
   ],
   "source": [
    "import numpy as np\n",
    "\n",
    "import pandas\n",
    "\n",
    "def means(turnstile_weather):\n",
    "    \n",
    "    with_rain_mean = np.mean(turnstile_weather[turnstile_weather['rain']==1]['ENTRIESn_hourly'])\n",
    "    without_rain_mean = np.mean(turnstile_weather[turnstile_weather['rain']==0]['ENTRIESn_hourly'])\n",
    "    ### YOUR CODE HERE ###\n",
    "    \n",
    "    return with_rain_mean, without_rain_mean # leave this line for the grader\n",
    "means(dfw)"
   ]
  },
  {
   "cell_type": "markdown",
   "metadata": {},
   "source": [
    "Responda as perguntas abaixo de acordo com a saida das suas funções:\n",
    "\n",
    "1. Qual a média das entradas com chuva?\n",
    "2. Qual a média das entradas sem chuva?\n"
   ]
  },
  {
   "cell_type": "markdown",
   "metadata": {},
   "source": [
    "** Resposta **: \n",
    "1. 1105.4\n",
    "2. 1090.2"
   ]
  },
  {
   "cell_type": "markdown",
   "metadata": {},
   "source": [
    "## Exercicio 3 - Map Reduce\n",
    "\n",
    "### *Exercicio 3.1*\n",
    "\n",
    "A entrada para esse exercício e o mesmo arquivo da seção anterior (Exercicio 2). Você pode baixar o arquivo neste link:\n",
    "\n",
    " https://s3.amazonaws.com/content.udacity-data.com/courses/ud359/turnstile_data_master_with_weather.csv\n",
    "\n",
    "Varmos criar um mapeador agora. Para cada linha de entrada, a saída do mapeador deve IMPRIMIR (não retornar) a UNIT como uma chave e o número de ENTRIESn_hourly como o valor. Separe a chave e o valor por uma guia. Por exemplo: 'R002 \\ t105105.0'\n",
    "\n",
    "Exporte seu mapeador em um arquivo chamado mapper_result.txt e envie esse arquivo juntamente com a sua submissão. O código para exportar seu mapeador já está escrito no código abaixo.\n",
    "\n",
    "\n"
   ]
  },
  {
   "cell_type": "code",
   "execution_count": 136,
   "metadata": {
    "collapsed": true
   },
   "outputs": [],
   "source": [
    "import sys\n",
    "\n",
    "def mapper():\n",
    "       \n",
    "\n",
    "    for line in sys.stdin:\n",
    "        data = line.strip().split(',')\n",
    "        unit = data[1]\n",
    "        entr_h = data[6]\n",
    "        print '{0} \\ {1}'.format(unit,entr_h)\n",
    "        \n",
    "\n",
    "    \n",
    "sys.stdin = open('turnstile_data_master_with_weather.csv')\n",
    "sys.stdout = open('mapper_result.txt', 'w')\n",
    "mapper()"
   ]
  },
  {
   "cell_type": "markdown",
   "metadata": {},
   "source": [
    "### *Exercicio 3.2*\n",
    "\n",
    "Agora crie o redutor. Dado o resultado do mapeador do exercicio anterior, o redutor deve imprimir(Não retornar) uma linha por UNIT, juntamente com o número total de ENTRIESn_hourly.Ao longo de maio (que é a duração dos nossos dados), separados por uma guia. Um exemplo de linha de saída do redutor pode ser assim: 'R001 \\ t500625.0'\n",
    "\n",
    "Você pode assumir que a entrada para o redutor está ordenada de tal forma que todas as linhas correspondentes a uma unidade particular são agrupados. No entanto a saida do redutor terá repetição pois existem lojas que aparecem em locais diferentes dos arquivos.\n",
    "\n",
    "Exporte seu redutor em um arquivo chamado reducer_result.txt e envie esse arquivo juntamente com a sua submissão."
   ]
  },
  {
   "cell_type": "code",
   "execution_count": 137,
   "metadata": {
    "collapsed": true
   },
   "outputs": [],
   "source": [
    "sys.stdin = open('mapper_result.txt')\n",
    "sys.stdout = open('reducer_result.txt', 'w')\n",
    "def reducer():\n",
    "    oldkey = None\n",
    "    summ = 0\n",
    "\n",
    "    for line in sys.stdin:\n",
    "        try:\n",
    "            data = line.strip().split('\\\\')   \n",
    "            thiskey,entries = data\n",
    "            entries = float(entries)\n",
    "        except ValueError:\n",
    "            continue\n",
    "        if oldkey and oldkey != thiskey:\n",
    "            print '{0} \\ {1}'.format(oldkey,summ)\n",
    "            summ = 0\n",
    "        oldkey = thiskey\n",
    "        summ = summ + entries\n",
    "    print '{0} \\ {1}'.format(oldkey,summ)\n",
    "reducer()\n"
   ]
  },
  {
   "cell_type": "code",
   "execution_count": null,
   "metadata": {
    "collapsed": true
   },
   "outputs": [],
   "source": []
  }
 ],
 "metadata": {
  "celltoolbar": "Edit Metadata",
  "kernelspec": {
   "display_name": "Python 2",
   "language": "python",
   "name": "python2"
  },
  "language_info": {
   "codemirror_mode": {
    "name": "ipython",
    "version": 2
   },
   "file_extension": ".py",
   "mimetype": "text/x-python",
   "name": "python",
   "nbconvert_exporter": "python",
   "pygments_lexer": "ipython2",
   "version": "2.7.14"
  }
 },
 "nbformat": 4,
 "nbformat_minor": 2
}
